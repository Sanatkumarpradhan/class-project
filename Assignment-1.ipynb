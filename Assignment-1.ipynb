{
 "cells": [
  {
   "cell_type": "markdown",
   "metadata": {},
   "source": [
    "## Table Content:\n",
    "\n",
    "[1. Mean](#mean)\\\n",
    "[2. Median](#median)\\\n",
    "[3. Mode](#mode)\\\n",
    "[4. Variance](#var)\\\n",
    "[5. Standard Deviation](#std)"
   ]
  },
  {
   "cell_type": "markdown",
   "metadata": {},
   "source": [
    "<a id='mean'></a>\n",
    "### 1. Mean"
   ]
  },
  {
   "cell_type": "markdown",
   "metadata": {
    "id": "1veapJkOBP0I"
   },
   "source": [
    "Mean --Sample 1"
   ]
  },
  {
   "cell_type": "code",
   "execution_count": null,
   "metadata": {
    "colab": {
     "base_uri": "https://localhost:8080/"
    },
    "id": "DjbK4lxqBVtC",
    "outputId": "1690fc89-a23f-419a-b8a4-ae96e9abbbe7"
   },
   "outputs": [
    {
     "data": {
      "text/plain": [
       "5.2"
      ]
     },
     "execution_count": 1,
     "metadata": {
      "tags": []
     },
     "output_type": "execute_result"
    }
   ],
   "source": [
    "(4 + 8 + 6 + 5 + 3 + 2 + 8 + 9 + 2 + 5) /10\n"
   ]
  },
  {
   "cell_type": "markdown",
   "metadata": {
    "id": "9RFqCgVxBb7Y"
   },
   "source": [
    "Mean sample--2"
   ]
  },
  {
   "cell_type": "code",
   "execution_count": null,
   "metadata": {
    "colab": {
     "base_uri": "https://localhost:8080/"
    },
    "id": "lq2vsy9dBgbR",
    "outputId": "63aef8b2-8a2e-4a9e-fe68-31e58650df61"
   },
   "outputs": [
    {
     "data": {
      "text/plain": [
       "5.2"
      ]
     },
     "execution_count": 2,
     "metadata": {
      "tags": []
     },
     "output_type": "execute_result"
    }
   ],
   "source": [
    "import statistics\n",
    "\n",
    "statistics.mean([4, 8, 6, 5, 3, 2, 8, 9, 2, 5])\n"
   ]
  },
  {
   "cell_type": "markdown",
   "metadata": {},
   "source": [
    "<a id='median'></a>\n",
    "### 2. Median"
   ]
  },
  {
   "cell_type": "markdown",
   "metadata": {
    "id": "T8CbF-SWCgZf"
   },
   "source": [
    "Median Sample-1"
   ]
  },
  {
   "cell_type": "code",
   "execution_count": null,
   "metadata": {
    "colab": {
     "base_uri": "https://localhost:8080/"
    },
    "id": "MegS5Ab2CxNj",
    "outputId": "5a871eea-1610-4bb1-9d95-0c4956486783"
   },
   "outputs": [
    {
     "data": {
      "text/plain": [
       "3"
      ]
     },
     "execution_count": 3,
     "metadata": {
      "tags": []
     },
     "output_type": "execute_result"
    }
   ],
   "source": [
    "def my_median(sample):\n",
    "   n = len(sample)\n",
    "   index = n // 2\n",
    "  # Sample with an odd number of observations\n",
    "   if n % 2:\n",
    "        return sorted(sample)[index]\n",
    "  # Sample with an even number of observations\n",
    "        return sum(sorted(sample)[index - 1:index + 1]) / 2\n",
    "\n",
    "\n",
    "my_median([3, 5, 1, 4, 2])\n"
   ]
  },
  {
   "cell_type": "markdown",
   "metadata": {
    "id": "UqnY0yus8VVI"
   },
   "source": [
    "Median sample-2"
   ]
  },
  {
   "cell_type": "code",
   "execution_count": null,
   "metadata": {
    "colab": {
     "base_uri": "https://localhost:8080/"
    },
    "id": "M_uYs4Yb8YLg",
    "outputId": "0f64499c-2565-46e5-f300-3cb4196320d3"
   },
   "outputs": [
    {
     "data": {
      "text/plain": [
       "3"
      ]
     },
     "execution_count": 4,
     "metadata": {
      "tags": []
     },
     "output_type": "execute_result"
    }
   ],
   "source": [
    "import statistics\n",
    "statistics.median([3, 5, 1, 4, 2])"
   ]
  },
  {
   "cell_type": "markdown",
   "metadata": {},
   "source": [
    "<a id='mode'></a>\n",
    "### 3. Mode"
   ]
  },
  {
   "cell_type": "markdown",
   "metadata": {
    "id": "CLgTuh8x89aK"
   },
   "source": [
    "Mode sample-1"
   ]
  },
  {
   "cell_type": "code",
   "execution_count": null,
   "metadata": {
    "colab": {
     "base_uri": "https://localhost:8080/"
    },
    "id": "uJGGCE_j8_sc",
    "outputId": "c3ff9c1e-ad59-4124-88ba-ec428cd0ac26"
   },
   "outputs": [
    {
     "data": {
      "text/plain": [
       "['male']"
      ]
     },
     "execution_count": 5,
     "metadata": {
      "tags": []
     },
     "output_type": "execute_result"
    }
   ],
   "source": [
    "from collections import Counter\n",
    "\n",
    "def my_mode(sample):\n",
    "    c = Counter(sample)\n",
    "    return [k for k, v in c.items() if v == c.most_common(1)[0][1]]\n",
    "\n",
    "\n",
    "my_mode([\"male\", \"male\", \"female\", \"male\"])"
   ]
  },
  {
   "cell_type": "markdown",
   "metadata": {
    "id": "NBlM35mx9XAB"
   },
   "source": [
    "Mode sample 2"
   ]
  },
  {
   "cell_type": "code",
   "execution_count": null,
   "metadata": {
    "colab": {
     "base_uri": "https://localhost:8080/"
    },
    "id": "TC6csxu09ZJb",
    "outputId": "7292181e-e1cd-43c1-f911-29d7c59fe9d2"
   },
   "outputs": [
    {
     "data": {
      "text/plain": [
       "2"
      ]
     },
     "execution_count": 6,
     "metadata": {
      "tags": []
     },
     "output_type": "execute_result"
    }
   ],
   "source": [
    "import statistics\n",
    "\n",
    "statistics.mode([4, 1, 2, 2, 3, 5])"
   ]
  },
  {
   "cell_type": "markdown",
   "metadata": {},
   "source": [
    "<a id='var'></a>\n",
    "### 4. Variance"
   ]
  },
  {
   "cell_type": "markdown",
   "metadata": {
    "id": "bHYvVDaL-Xib"
   },
   "source": [
    "variance sample -1"
   ]
  },
  {
   "cell_type": "code",
   "execution_count": null,
   "metadata": {
    "colab": {
     "base_uri": "https://localhost:8080/"
    },
    "id": "xfdgPwT0-hnY",
    "outputId": "aba29219-e8d8-4eb3-f07a-fa0bc178c641"
   },
   "outputs": [
    {
     "data": {
      "text/plain": [
       "5.76"
      ]
     },
     "execution_count": 7,
     "metadata": {
      "tags": []
     },
     "output_type": "execute_result"
    }
   ],
   "source": [
    "def variance(data):\n",
    "     # Number of observations\n",
    "     n = len(data)\n",
    "     # Mean of the data\n",
    "     mean = sum(data) / n\n",
    "     # Square deviations\n",
    "     deviations = [(x - mean) ** 2 for x in data]\n",
    "     # Variance\n",
    "     variance = sum(deviations) / n\n",
    "     return variance\n",
    "\n",
    "variance([4, 8, 6, 5, 3, 2, 8, 9, 2, 5])"
   ]
  },
  {
   "cell_type": "markdown",
   "metadata": {
    "id": "XyI2j4jt_cH9"
   },
   "source": [
    "Variance sample 2:-the statistics.pvariance() and statistics.variance() are the functions that we can use to calculate the variance"
   ]
  },
  {
   "cell_type": "code",
   "execution_count": null,
   "metadata": {
    "colab": {
     "base_uri": "https://localhost:8080/"
    },
    "id": "dUinCdeV_iio",
    "outputId": "ce4b8d50-0655-4bbd-ba32-d65cad129840"
   },
   "outputs": [
    {
     "data": {
      "text/plain": [
       "5.760000000000001"
      ]
     },
     "execution_count": 8,
     "metadata": {
      "tags": []
     },
     "output_type": "execute_result"
    }
   ],
   "source": [
    "import statistics\n",
    "\n",
    "statistics.pvariance([4, 8, 6, 5, 3, 2, 8, 9, 2, 5])"
   ]
  },
  {
   "cell_type": "markdown",
   "metadata": {},
   "source": [
    "<a id='std'></a>\n",
    "### 5. Standard Devation"
   ]
  },
  {
   "cell_type": "markdown",
   "metadata": {
    "id": "buydEBC2_3qX"
   },
   "source": [
    "Standard Deviation sample-1"
   ]
  },
  {
   "cell_type": "code",
   "execution_count": null,
   "metadata": {
    "colab": {
     "base_uri": "https://localhost:8080/"
    },
    "id": "givWeSJYAf5Q",
    "outputId": "daa21056-95cf-499b-daa5-6b3271a96649"
   },
   "outputs": [
    {
     "data": {
      "text/plain": [
       "2.4"
      ]
     },
     "execution_count": 9,
     "metadata": {
      "tags": []
     },
     "output_type": "execute_result"
    }
   ],
   "source": [
    "import math\n",
    "\n",
    " # We relay on our previous implementation for the variance\n",
    "def variance(data, ddof=0):\n",
    "     n = len(data)\n",
    "     mean = sum(data) / n\n",
    "     return sum((x - mean) ** 2 for x in data) / (n - ddof)\n",
    "\n",
    "def stdev(data):\n",
    "     var = variance(data)\n",
    "     std_dev = math.sqrt(var)\n",
    "     return std_dev\n",
    "\n",
    "stdev([4, 8, 6, 5, 3, 2, 8, 9, 2, 5])"
   ]
  },
  {
   "cell_type": "markdown",
   "metadata": {
    "id": "b1gTdYUKBgRt"
   },
   "source": [
    "Standard deviation Sample-2"
   ]
  },
  {
   "cell_type": "code",
   "execution_count": null,
   "metadata": {
    "colab": {
     "base_uri": "https://localhost:8080/"
    },
    "id": "b61iJdUMBj_T",
    "outputId": "2dd41d59-b6be-4748-9863-e04a26582289"
   },
   "outputs": [
    {
     "data": {
      "text/plain": [
       "2.4000000000000004"
      ]
     },
     "execution_count": 10,
     "metadata": {
      "tags": []
     },
     "output_type": "execute_result"
    }
   ],
   "source": [
    "import statistics\n",
    "\n",
    "statistics.pstdev([4, 8, 6, 5, 3, 2, 8, 9, 2, 5])"
   ]
  }
 ],
 "metadata": {
  "colab": {
   "collapsed_sections": [],
   "name": " DMDW assn1.ipynb",
   "provenance": []
  },
  "kernelspec": {
   "display_name": "Python 3",
   "language": "python",
   "name": "python3"
  },
  "language_info": {
   "codemirror_mode": {
    "name": "ipython",
    "version": 3
   },
   "file_extension": ".py",
   "mimetype": "text/x-python",
   "name": "python",
   "nbconvert_exporter": "python",
   "pygments_lexer": "ipython3",
   "version": "3.8.5"
  }
 },
 "nbformat": 4,
 "nbformat_minor": 1
}
